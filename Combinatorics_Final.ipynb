{
  "cells": [
    {
      "cell_type": "code",
      "execution_count": null,
      "metadata": {
        "id": "YXuCsSVNBqDn"
      },
      "outputs": [],
      "source": [
        "#imports\n",
        "import random\n",
        "import numpy as np\n",
        "import time\n",
        "import pandas as pd\n",
        "import math\n",
        "import itertools\n",
        "from collections import Counter\n",
        "from itertools import permutations\n",
        "from sympy import factorint\n"
      ]
    },
    {
      "cell_type": "code",
      "execution_count": null,
      "metadata": {
        "id": "Gcwm_D-xCWGq"
      },
      "outputs": [],
      "source": [
        "#Makes sure the given profile is valid\n",
        "def parameter_check(profile):\n",
        "\n",
        "  #assume the following\n",
        "  sumTo12 = True\n",
        "  allPositives = True\n",
        "  allInts = True\n",
        "\n",
        "  #check each individually:\n",
        "  #ensure 12 cards\n",
        "  if (sum(profile)) != 12:\n",
        "    sumTo12 = False\n",
        "  #check for negatives\n",
        "  for numCost in profile:\n",
        "    if numCost < 0:\n",
        "      allPositives = False\n",
        "  #ensure integers\n",
        "  for numCost in profile:\n",
        "    if not isinstance(numCost, int):\n",
        "      allInts = False\n",
        "\n",
        "  #make an error message\n",
        "  errorMessage = \"\"\n",
        "  if not sumTo12:\n",
        "    errorMessage += \"All inputs must add to 12. \"\n",
        "  if not allPositives:\n",
        "    errorMessage += \"All numbers must be 0 or greater. \"\n",
        "  if not allInts:\n",
        "    errorMessage += \"All numbers must be integers. \"\n",
        "\n",
        "  #raise error if necessary\n",
        "  if len(errorMessage) != 0:\n",
        "    raise ValueError(errorMessage)\n"
      ]
    },
    {
      "cell_type": "code",
      "execution_count": null,
      "metadata": {
        "id": "GKGo81xT0qNH"
      },
      "outputs": [],
      "source": [
        "primes = np.array([2, 3, 5, 7, 11, 13])\n"
      ]
    },
    {
      "cell_type": "code",
      "execution_count": null,
      "metadata": {
        "id": "W9wPSsa_zDUe"
      },
      "outputs": [],
      "source": [
        "#Converts a energy-count array into a single integer using prime-factorization encoding\n",
        "def to_primes(array):\n",
        "  components = np.array(array) * primes\n",
        "  return np.prod(components[components != 0])\n"
      ]
    },
    {
      "cell_type": "code",
      "execution_count": null,
      "metadata": {
        "id": "Q8T1YjnUB29i"
      },
      "outputs": [],
      "source": [
        "#This gives strategy of what cost combibnations to play\n",
        "#always_highest primarily tries to play the least amount of cards, and secondarily plays the combination with the largest maximum card\n",
        "#this is the strategy lerio used\n",
        "\n",
        "#STRATEGIES OTHER THAN ALWAYS_HIGHEST WILL CURRENTLY NOT WORK PROPERLY WITH CODE AND NEED TO BE REWRITTEN/CONVERTED INTO COUNT VECTORS\n",
        "\n",
        "def strategy(cost, strat):\n",
        "  match strat:\n",
        "    case \"always_highest\":\n",
        "      match cost:\n",
        "        case 1:\n",
        "          return [[1, 0, 0, 0, 0, 0]]\n",
        "        case 2:\n",
        "          return [[0, 1, 0, 0, 0, 0], [2, 0, 0, 0, 0, 0]]\n",
        "        case 3:\n",
        "          return [[0, 0, 1, 0, 0, 0], [1, 1, 0, 0, 0, 0], [3, 0, 0, 0, 0, 0]]\n",
        "        case 4:\n",
        "          return [[0, 0, 0, 1, 0, 0], [1, 0, 1, 0, 0, 0], [0, 2, 0, 0, 0, 0], [2, 1, 0, 0, 0, 0], [4, 0, 0, 0, 0, 0]]\n",
        "        case 5:\n",
        "          return [[0, 0, 0, 0, 1, 0], [1, 0, 0, 1, 0, 0], [0, 1, 1, 0, 0, 0], [2, 0, 1, 0, 0, 0], [1, 2, 0, 0, 0, 0], [3, 1, 0, 0, 0, 0], [5, 0, 0, 0, 0, 0]]\n",
        "        case 6:\n",
        "          return [[0, 0, 0, 0, 0, 1], [1, 0, 0, 0, 1, 0], [0, 1, 0, 1, 0, 0], [2, 0, 0, 1, 0, 0], [0, 0, 2, 0, 0, 0], [1, 1, 1, 0, 0, 0], [3, 0, 1, 0, 0, 0], [0, 3, 0, 0, 0, 0], [2, 2, 0, 0, 0, 0], [4, 1, 0, 0, 0, 0], [6, 0, 0, 0, 0, 0]]\n",
        "        case _:\n",
        "          raise ValueError(\"strategy() input invalid\")\n",
        "    case \"lowest_num_cards\":\n",
        "      match cost:\n",
        "        case 1:\n",
        "          return [[1]]\n",
        "        case 2:\n",
        "          return [[2], [1, 1]]\n",
        "        case 3:\n",
        "          return [[3], [2, 1], [1, 1, 1]]\n",
        "        case 4:\n",
        "          return [[4], [3, 1], [2, 2], [2, 1, 1], [1, 1, 1, 1]]\n",
        "        case 5:\n",
        "          return [[5], [4, 1], [3, 2], [3, 1, 1], [2, 2, 1], [2, 1, 1, 1], [1, 1, 1, 1, 1]]\n",
        "        case 6:\n",
        "          return [[6], [5, 1], [4, 2], [3, 3], [4, 1, 1], [3, 2, 1], [2, 2, 2], [3, 1, 1, 1], [2, 2, 1, 1], [2, 1, 1, 1, 1], [1, 1, 1, 1, 1, 1]]\n",
        "        case _:\n",
        "          raise ValueError(\"strategy() input invalid\")\n",
        "    case \"lowest_number_cards_balanced\":\n",
        "      match cost:\n",
        "        case 1:\n",
        "          return [[1]]\n",
        "        case 2:\n",
        "          return [[2], [1, 1]]\n",
        "        case 3:\n",
        "          return [[3], [2, 1], [1, 1, 1]]\n",
        "        case 4:\n",
        "          return [[4], [2, 2], [3, 1], [2, 1, 1], [1, 1, 1, 1]]\n",
        "        case 5:\n",
        "          return [[5], [3, 2], [4, 1], [2, 2, 1], [3, 1, 1], [2, 1, 1, 1], [1, 1, 1, 1, 1]]\n",
        "        case 6:\n",
        "          return [[6], [3, 3], [4, 2], [5, 1], [2, 2, 2], [3, 2, 1], [4, 1, 1], [2, 2, 1, 1], [3, 1, 1, 1], [2, 1, 1, 1, 1], [1, 1, 1, 1, 1, 1]]\n",
        "        case _:\n",
        "          raise ValueError(\"strategy() input invalid\")\n",
        "    case \"PowerValue\":\n",
        "    #Assigns value of play based on in-game baseline values. Corresponding values are [2, 3, 4, 6, 9, 12]\n",
        "      match cost:\n",
        "        case 1:\n",
        "          return [[1]]\n",
        "        case 2:\n",
        "          return [[1, 1], [2]]\n",
        "        case 3:\n",
        "          return [[3], [2, 1], [1, 1, 1]]\n",
        "        case 4:\n",
        "          return [[1, 1, 1, 1], [2, 1, 1], [4], [3, 1], [2, 2]]\n",
        "        case 5:\n",
        "          return [[1, 1, 1, 1, 1], [5], [2, 1, 1, 1], [4, 1], [3, 1, 1], [2, 2, 1], [3, 2]]\n",
        "        case 6:\n",
        "          return [[6], [1, 1, 1, 1, 1, 1], [5, 1], [2, 1, 1, 1, 1], [4, 1, 1], [3, 1, 1, 1], [4, 2], [3, 2, 1], [3, 3], [2, 2, 1]]\n",
        "          #        12         12             11         11             10           10          9        9        8         8\n",
        "          # Above are the summed values of case 6's plays\n",
        "        case _:\n",
        "          raise ValueError(\"strategy() input invalid\")\n",
        "\n",
        "#This is where you can change strategy\n",
        "strat = \"always_highest\"\n",
        "\n",
        "plays1 = [to_primes(strategy(1, strat)[0])]\n",
        "\n",
        "plays2 = [to_primes(strategy(2, strat)[0]), to_primes(strategy(2, strat)[1])]\n",
        "plays2.extend(plays1)\n",
        "\n",
        "plays3 = [to_primes(strategy(3, strat)[0]), to_primes(strategy(3, strat)[1]), to_primes(strategy(3, strat)[2])]\n",
        "plays3.extend(plays2)\n",
        "\n",
        "plays4 = [to_primes(strategy(4, strat)[0]), to_primes(strategy(4, strat)[1]), to_primes(strategy(4, strat)[2]), to_primes(strategy(4, strat)[3])]\n",
        "plays4.extend(plays3)\n",
        "\n",
        "plays5 = [to_primes(strategy(5, strat)[0]), to_primes(strategy(5, strat)[1]), to_primes(strategy(5, strat)[2]), to_primes(strategy(5, strat)[3]), to_primes(strategy(5, strat)[4])]\n",
        "plays5.extend(plays4)\n",
        "\n",
        "plays6 = [to_primes(strategy(6, strat)[0]), to_primes(strategy(6, strat)[1]), to_primes(strategy(6, strat)[2]), to_primes(strategy(6, strat)[3]), to_primes(strategy(6, strat)[4]), to_primes(strategy(6, strat)[5])]\n",
        "plays6.extend(plays5)\n",
        "\n",
        "plays = [plays1, plays2, plays3, plays4, plays5, plays6]\n"
      ]
    },
    {
      "cell_type": "code",
      "execution_count": null,
      "metadata": {
        "id": "MTxVQUfmmX4l"
      },
      "outputs": [],
      "source": [
        "#Has 4 positions that each follow the same rule: increment until you reach a new number or reach the end,\n",
        "#then move previous cursor forward one, and start immediately in front of it.\n",
        "#this only outputs groupings of 4\n",
        "\n",
        "def list_deals(deck):\n",
        "  position1 = 0\n",
        "  position2 = 1\n",
        "  position3 = 2\n",
        "  position4 = 3\n",
        "  card1 = deck[position1]\n",
        "  card2 = deck[position2]\n",
        "  card3 = deck[position3]\n",
        "  card4 = deck[position4]\n",
        "  deals = []\n",
        "  while position1 < len(deck) - 3:\n",
        "    card1 = deck[position1]\n",
        "    while position2 < len(deck) - 2:\n",
        "      card2 = deck[position2]\n",
        "      while position3 < len(deck) - 1:\n",
        "        card3 = deck[position3]\n",
        "        while position4 < len(deck):\n",
        "          card4 = deck[position4]\n",
        "          deals.append([card1, card2, card3, card4])\n",
        "          position4 += 1\n",
        "          while position4 < len(deck) and deck[position4] == deck[position4 - 1]:\n",
        "            position4 += 1\n",
        "        position3 += 1\n",
        "        while position3 < len(deck) - 1 and deck[position3] == deck[position3 - 1]:\n",
        "            position3 += 1\n",
        "        position4 = position3 + 1\n",
        "      position2 += 1\n",
        "      while position2 < len(deck) - 2 and deck[position2] == deck[position2 - 1]:\n",
        "          position2 += 1\n",
        "      position3 = position2 + 1\n",
        "      position4 = position3 + 1\n",
        "    position1 += 1\n",
        "    while position1 < len(deck) - 3 and deck[position1] == deck[position1 - 1]:\n",
        "        position1 += 1\n",
        "    position2 = position1 + 1\n",
        "    position3 = position2 + 1\n",
        "    position4 = position3 + 1\n",
        "  return deals\n",
        ""
      ]
    },
    {
      "cell_type": "code",
      "execution_count": null,
      "metadata": {
        "id": "WEIspztnFV8u"
      },
      "outputs": [],
      "source": [
        "def list_turn_draws(deck):\n",
        "    return [list(p) for p in set(permutations(deck, 5))]\n",
        ""
      ]
    },
    {
      "cell_type": "code",
      "execution_count": null,
      "metadata": {
        "id": "L7-iiDuhwxXc"
      },
      "outputs": [],
      "source": [
        "#finds weights of a deal (number of times a deal happens)\n",
        "def find_comb_weights(deck_profile, deal_profiles):\n",
        "  weights = []\n",
        "  for deal_profile in deal_profiles:\n",
        "    weight = 1\n",
        "    for i in range(6):\n",
        "      if deal_profile[i] != 0:\n",
        "        weight *= math.comb(deck_profile[i], deal_profile[i])\n",
        "    weights.append(weight)\n",
        "  return weights\n"
      ]
    },
    {
      "cell_type": "code",
      "execution_count": null,
      "metadata": {
        "id": "AbX0kUMaO3E0"
      },
      "outputs": [],
      "source": [
        "#finds weights of a draw (number of times a draw happens)\n",
        "def find_perm_weight(deck_profile, draw_profile):\n",
        "  weight = 1\n",
        "  for i in range(6):\n",
        "    if draw_profile[i] != 0:\n",
        "      weight *= math.perm(deck_profile[i], draw_profile[i])\n",
        "  return weight\n"
      ]
    },
    {
      "cell_type": "code",
      "execution_count": null,
      "metadata": {
        "id": "ixu5lkq_QZHu"
      },
      "outputs": [],
      "source": [
        "#if given profile of [3, 3, 3, 2, 1, 0], makes deck of [1, 1, 1, 2, 2, 2, 3, 3, 3, 4, 4, 5]\n",
        "def create_deck(profile):\n",
        "\n",
        "  deck = []\n",
        "  cost = 0\n",
        "\n",
        "  for numCost in profile:\n",
        "    cost += 1\n",
        "    for i in range(numCost):\n",
        "      deck.append(cost)\n",
        "\n",
        "  return deck\n",
        ""
      ]
    },
    {
      "cell_type": "code",
      "execution_count": null,
      "metadata": {
        "id": "dhCHIVkyv7M_"
      },
      "outputs": [],
      "source": [
        "#takes an array of cards and converts them into a profile\n",
        "#if given cards [1, 1, 2, 3], makes profile of [2, 1, 1, 0, 0, 0]\n",
        "\n",
        "def convert_to_profile(deals):\n",
        "  deal_profiles = []\n",
        "  for deal in deals:\n",
        "    profile = [0, 0, 0, 0, 0, 0]\n",
        "    for card in deal:\n",
        "      profile[card - 1] += 1\n",
        "    deal_profiles.append(np.array(profile))\n",
        "  return deal_profiles\n",
        "\n",
        "def convert_to_profile2(deal):\n",
        "    # print(\"Deal: \", deal)\n",
        "    profile = [0, 0, 0, 0, 0, 0]\n",
        "    for card in deal:\n",
        "      # print(\"Card: \", card)\n",
        "      profile[card - 1] += 1\n",
        "    return profile\n",
        ""
      ]
    },
    {
      "cell_type": "code",
      "execution_count": null,
      "metadata": {
        "id": "81NeqGyQIpC7"
      },
      "outputs": [],
      "source": [
        "np_turns = np.array([1, 2, 3, 4, 5, 6])\n",
        "turns = [1, 2, 3, 4, 5, 6]\n"
      ]
    },
    {
      "cell_type": "code",
      "execution_count": null,
      "metadata": {
        "id": "vWfqo6u-AVyS"
      },
      "outputs": [],
      "source": [
        "#plays a series of games\n",
        "#hand in profile, deck in expanded\n",
        "def play(hand, deck):\n",
        "  board = 1\n",
        "  hand = to_primes(hand)\n",
        "  for turn in turns:\n",
        "    if (turn != 1):\n",
        "      hand *= primes[deck.pop() - 1]\n",
        "    for play in plays[turn - 1]:\n",
        "      test = hand / play\n",
        "      if test.is_integer():\n",
        "        hand = test\n",
        "        board *= play\n",
        "        break\n",
        "  factor_dict = factorint(int(board))\n",
        "  count = [factor_dict.get(p, 0) for p in primes]\n",
        "  return np.dot(count, np_turns)\n"
      ]
    },
    {
      "cell_type": "code",
      "execution_count": null,
      "metadata": {
        "id": "g6ijhNdVP1an"
      },
      "outputs": [],
      "source": [
        "#Calls many methods to find efficiency\n",
        "def find_efficiency(deck_profile):\n",
        "  parameter_check(deck_profile)\n",
        "  deck = create_deck(deck_profile)\n",
        "  deals = list_deals(deck)\n",
        "  deal_profiles = np.array(convert_to_profile(deals))\n",
        "  deal_weights = find_comb_weights(deck_profile, deal_profiles)\n",
        "  deck_profile = np.array(deck_profile)\n",
        "  average_deal_energies = np.empty(len(deals))\n",
        "  deal_num = 0\n",
        "\n",
        "\n",
        "  for deal_profile in deal_profiles:\n",
        "    in_deck_profile = deck_profile - deal_profile\n",
        "    turn_draws = list_turn_draws(create_deck(in_deck_profile))\n",
        "    turn_draw_weights = np.zeros(len(turn_draws))\n",
        "    turn_draw_energy = np.zeros(len(turn_draws))\n",
        "    turn_draw_index = 0\n",
        "    for turn_draw in turn_draws:\n",
        "      turn_draw_weights[turn_draw_index] = find_perm_weight(in_deck_profile, convert_to_profile2(turn_draw))\n",
        "      turn_draw_energy[turn_draw_index] = turn_draw_weights[turn_draw_index] * play(deal_profile, turn_draw)\n",
        "      turn_draw_index += 1\n",
        "    average_deal_energies[deal_num] = np.sum(turn_draw_energy) / np.sum(turn_draw_weights)\n",
        "    deal_num += 1\n",
        "\n",
        "  weighted_deal_energy = np.dot(average_deal_energies, deal_weights)\n",
        "  average_energy = weighted_deal_energy / sum(deal_weights)\n",
        "\n",
        "  return average_energy\n"
      ]
    },
    {
      "cell_type": "code",
      "execution_count": null,
      "metadata": {
        "id": "7EFW3qUCTuxp"
      },
      "outputs": [],
      "source": [
        "#generate all profiles\n",
        "\n",
        "def generate_lists(total, length, current_list=None, result=None):\n",
        "    if current_list is None:\n",
        "        current_list = []\n",
        "\n",
        "    if result is None:\n",
        "        result = []\n",
        "\n",
        "    if total == 0 and len(current_list) == length:\n",
        "        result.append(current_list[:])  # Append a copy of the current list\n",
        "        return\n",
        "\n",
        "    if total < 0 or len(current_list) >= length:\n",
        "        return\n",
        "\n",
        "    for i in range(0, 13):  # including 0 as a valid number\n",
        "        generate_lists(total - i, length, current_list + [i], result)\n",
        "\n",
        "    return result\n",
        ""
      ]
    },
    {
      "cell_type": "code",
      "execution_count": null,
      "metadata": {
        "colab": {
          "background_save": true
        },
        "id": "LwiTqrGqTvh3"
      },
      "outputs": [],
      "source": [
        "#test all profiles\n",
        "start_time = time.time()\n",
        "\n",
        "combinations = generate_lists(12, 6)\n",
        "data = {'Profile': combinations, 'Efficiency': 0.0}\n",
        "\n",
        "# Create the DataFrame\n",
        "df = pd.DataFrame(data)\n",
        "\n",
        "row = 0\n",
        "batch_start_time = time.time()\n",
        "\n",
        "for combo in combinations:\n",
        "  NRGsum = 0\n",
        "  NRGsum += find_efficiency(combo)\n",
        "  df.loc[row, 'Efficiency'] = NRGsum\n",
        "  if row % 100 == 0 and row != 0:\n",
        "    batch_end_time = time.time()\n",
        "    batch_elapsed_time = batch_end_time - batch_start_time\n",
        "    print(f\"Time taken for rows {row-100} to {row-1}: {batch_elapsed_time:.2f} seconds\")\n",
        "    batch_start_time = batch_end_time\n",
        "  row += 1\n",
        "df['Efficiency'] = df['Efficiency'] / (21)\n",
        "\n",
        "end_time = time.time()\n",
        "elapsed_time = end_time - start_time\n",
        "print(\"Elapsed time:\", elapsed_time, \"seconds\")\n"
      ]
    },
    {
      "cell_type": "code",
      "execution_count": null,
      "metadata": {
        "colab": {
          "background_save": true
        },
        "id": "NxqPqYSII568"
      },
      "outputs": [],
      "source": [
        "df.to_excel('Combinatorics_v4.1.xlsx', index=False)\n"
      ]
    }
  ],
  "metadata": {
    "colab": {
      "provenance": []
    },
    "kernelspec": {
      "display_name": "Python 3",
      "name": "python3"
    },
    "language_info": {
      "name": "python"
    }
  },
  "nbformat": 4,
  "nbformat_minor": 0
}