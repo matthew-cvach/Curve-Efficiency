{
  "nbformat": 4,
  "nbformat_minor": 0,
  "metadata": {
    "colab": {
      "provenance": []
    },
    "kernelspec": {
      "name": "python3",
      "display_name": "Python 3"
    },
    "language_info": {
      "name": "python"
    }
  },
  "cells": [
    {
      "cell_type": "code",
      "source": [
        "import random\n",
        "import numpy as np\n",
        "import time\n",
        "import pandas as pd\n",
        "import time\n"
      ],
      "metadata": {
        "id": "MjWPlDV0OPK2"
      },
      "execution_count": null,
      "outputs": []
    },
    {
      "cell_type": "code",
      "source": [
        "#ONLY WORKS CORRECTLY UP TO 6\n",
        "#This is sorting differently than lerio; he puts combinations that use less cards first\n",
        "\n",
        "def find_ways(target, current_sum=0, start=1, path=[], combinations=[]):\n",
        "    # Base case: if the current_sum equals the target, append the path to combinations\n",
        "    if current_sum == target:\n",
        "        combinations.append(path[:])  # Append a copy of the path to avoid modifying the original path\n",
        "        return\n",
        "    # Iterate through possible candidates to add to current_sum\n",
        "    for i in range(start, target - current_sum + 1):\n",
        "        # Update current_sum and path\n",
        "        current_sum += i\n",
        "        path.append(i)\n",
        "        # Recursively call the function to find combinations for the remaining target\n",
        "        find_ways(target, current_sum, i, path, combinations)\n",
        "        # Backtrack: remove the last element from path and subtract from current_sum\n",
        "        current_sum -= path.pop()\n",
        "\n",
        "def perms(energy):\n",
        "  target_number = energy\n",
        "  combinations = []\n",
        "  find_ways(target_number, combinations=combinations)\n",
        "  combinations.reverse()\n",
        "  max_values = [max(arr) for arr in combinations]\n",
        "  combined_arrays = list(zip(combinations, max_values))\n",
        "  # Sort the combined arrays based on the second column (maximum values) in decreasing order\n",
        "  sorted_combined = sorted(combined_arrays, key=lambda x: x[1], reverse=True)\n",
        "  # Remove the second column (maximum values)\n",
        "  sorted_combined = [arr[0] for arr in sorted_combined]\n",
        "  return sorted_combined\n",
        ""
      ],
      "metadata": {
        "id": "AaS_SUM3cTqe"
      },
      "execution_count": null,
      "outputs": []
    },
    {
      "cell_type": "code",
      "source": [
        "#Monte Carlo problems for shuffling\n",
        "\n",
        "def efficiency(n1, n2, n3, n4, n5, n6):\n",
        "  #check parameters\n",
        "  errorMessage = \"\"\n",
        "  #check you have 12 cards\n",
        "  if (n1 + n2 + n3 + n4 + n5 + n6) != 12:\n",
        "    errorMessage += \"All inputs must add to 12. \"\n",
        "  #check for negatives\n",
        "  if n1 < 0 or n2 < 0 or n3 < 0 or n4 < 0 or n5 < 0 or n6 < 0:\n",
        "    errorMessage += \"All numbers must be 0 or greater. \"\n",
        "  #check for integers\n",
        "  if not all(isinstance(x, int) for x in [n1, n2, n3, n4, n5, n6]):\n",
        "    errorMessage += \"All numbers must be integers. \"\n",
        "  if len(errorMessage) != 0:\n",
        "    raise ValueError(errorMessage)\n",
        "  #create deck\n",
        "  deck = []\n",
        "  costDist = [n1, n2, n3, n4, n5, n6]\n",
        "  additon = 0\n",
        "  for cost in costDist:\n",
        "    additon += 1\n",
        "    for i in range(cost):\n",
        "      deck.append(additon)\n",
        "  #randomly shuffle\n",
        "  random.shuffle(deck)\n",
        "  #deal\n",
        "  hand = []\n",
        "  board = []\n",
        "  flag = False\n",
        "  for i in range(3):\n",
        "    hand.append(deck.pop())\n",
        "  #for loop\n",
        "  for i in range(1, 7):\n",
        "    flag = False\n",
        "    #draw card\n",
        "    hand.append(deck.pop())\n",
        "    #turn info for testing\n",
        "    #print('Turn ', i)\n",
        "    #print('Hand:', hand)\n",
        "    #print('Played: ', board)\n",
        "    #play cards\n",
        "    for j in range(i, 0, -1):\n",
        "      combos = perms(j)\n",
        "      for k in range(len(combos)):\n",
        "        cardPlays = combos[k]\n",
        "        result = all(cardPlays.count(elem) <= hand.count(elem) for elem in set(cardPlays))\n",
        "        if result:\n",
        "          for l in range(len(cardPlays)):\n",
        "            board.append(hand.pop(hand.index(cardPlays[l - 1])))\n",
        "          flag = True\n",
        "          break\n",
        "      if flag:\n",
        "        break\n",
        "  return sum(board)\n"
      ],
      "metadata": {
        "id": "xxI5q93B5nJM"
      },
      "execution_count": null,
      "outputs": []
    },
    {
      "cell_type": "code",
      "source": [
        "#generate all profiles\n",
        "\n",
        "def generate_lists(total, length, current_list=None, result=None):\n",
        "    if current_list is None:\n",
        "        current_list = []\n",
        "\n",
        "    if result is None:\n",
        "        result = []\n",
        "\n",
        "    if total == 0 and len(current_list) == length:\n",
        "        result.append(current_list[:])  # Append a copy of the current list\n",
        "        return\n",
        "\n",
        "    if total < 0 or len(current_list) >= length:\n",
        "        return\n",
        "\n",
        "    for i in range(0, 13):  # including 0 as a valid number\n",
        "        generate_lists(total - i, length, current_list + [i], result)\n",
        "\n",
        "    return result\n",
        "\n",
        "combinations = generate_lists(12, 6)\n"
      ],
      "metadata": {
        "id": "GpZQY4vTGZRM"
      },
      "execution_count": null,
      "outputs": []
    },
    {
      "cell_type": "code",
      "source": [
        "#test all profiles\n",
        "start_time = time.time()\n",
        "\n",
        "data = {'Profile': combinations, 'Efficiency': 0}\n",
        "\n",
        "# Create the DataFrame\n",
        "df = pd.DataFrame(data)\n",
        "\n",
        "simulations = 1000\n",
        "row = 0\n",
        "for combo in combinations:\n",
        "  NRGsum = 0\n",
        "  for j in range(simulations):\n",
        "    NRGsum += efficiency(combo[0], combo[1], combo[2], combo[3], combo[4], combo[5])\n",
        "  df.loc[row, 'Efficiency'] = NRGsum\n",
        "  if row % 500 == 0:\n",
        "    print(\"First \", row, \" rows completed.\")\n",
        "  row += 1\n",
        "df['Efficiency'] = df['Efficiency'] / (simulations * 21)\n",
        "\n",
        "end_time = time.time()\n",
        "elapsed_time = end_time - start_time\n",
        "print(\"Elapsed time:\", elapsed_time, \"seconds\")\n"
      ],
      "metadata": {
        "id": "ISd1UqbGG9SJ"
      },
      "execution_count": null,
      "outputs": []
    },
    {
      "cell_type": "code",
      "source": [
        "df.to_excel('1000sims.xlsx', index=False)\n"
      ],
      "metadata": {
        "id": "pvfzAXkxNmol"
      },
      "execution_count": null,
      "outputs": []
    }
  ]
}