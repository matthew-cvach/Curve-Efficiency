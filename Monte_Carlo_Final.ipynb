{
  "nbformat": 4,
  "nbformat_minor": 0,
  "metadata": {
    "colab": {
      "provenance": []
    },
    "kernelspec": {
      "name": "python3",
      "display_name": "Python 3"
    },
    "language_info": {
      "name": "python"
    }
  },
  "cells": [
    {
      "cell_type": "code",
      "source": [
        "import random\n",
        "import numpy as np\n",
        "import time\n",
        "import pandas as pd\n",
        "import time\n"
      ],
      "metadata": {
        "id": "MjWPlDV0OPK2"
      },
      "execution_count": null,
      "outputs": []
    },
    {
      "cell_type": "code",
      "source": [
        "#ONLY WORKS CORRECTLY UP TO 6\n",
        "#This is sorting differently than lerio; he puts combinations that use less cards first\n",
        "\n",
        "def find_ways(target, current_sum=0, start=1, path=[], combinations=[]):\n",
        "    # Base case: if the current_sum equals the target, append the path to combinations\n",
        "    if current_sum == target:\n",
        "        combinations.append(path[:])  # Append a copy of the path to avoid modifying the original path\n",
        "        return\n",
        "    # Iterate through possible candidates to add to current_sum\n",
        "    for i in range(start, target - current_sum + 1):\n",
        "        # Update current_sum and path\n",
        "        current_sum += i\n",
        "        path.append(i)\n",
        "        # Recursively call the function to find combinations for the remaining target\n",
        "        find_ways(target, current_sum, i, path, combinations)\n",
        "        # Backtrack: remove the last element from path and subtract from current_sum\n",
        "        current_sum -= path.pop()\n",
        "\n",
        "def perms(energy):\n",
        "  target_number = energy\n",
        "  combinations = []\n",
        "  find_ways(target_number, combinations=combinations)\n",
        "  combinations.reverse()\n",
        "  max_values = [max(arr) for arr in combinations]\n",
        "  combined_arrays = list(zip(combinations, max_values))\n",
        "  # Sort the combined arrays based on the second column (maximum values) in decreasing order\n",
        "  sorted_combined = sorted(combined_arrays, key=lambda x: x[1], reverse=True)\n",
        "  # Remove the second column (maximum values)\n",
        "  sorted_combined = [arr[0] for arr in sorted_combined]\n",
        "  return sorted_combined\n",
        ""
      ],
      "metadata": {
        "id": "AaS_SUM3cTqe"
      },
      "execution_count": null,
      "outputs": []
    },
    {
      "cell_type": "code",
      "source": [
        "#Monte Carlo problems for shuffling\n",
        "\n",
        "def efficiency(n1, n2, n3, n4, n5, n6):\n",
        "  #check parameters\n",
        "  errorMessage = \"\"\n",
        "  #check you have 12 cards\n",
        "  if (n1 + n2 + n3 + n4 + n5 + n6) != 12:\n",
        "    errorMessage += \"All inputs must add to 12. \"\n",
        "  #check for negatives\n",
        "  if n1 < 0 or n2 < 0 or n3 < 0 or n4 < 0 or n5 < 0 or n6 < 0:\n",
        "    errorMessage += \"All numbers must be 0 or greater. \"\n",
        "  #check for integers\n",
        "  if not all(isinstance(x, int) for x in [n1, n2, n3, n4, n5, n6]):\n",
        "    errorMessage += \"All numbers must be integers. \"\n",
        "  if len(errorMessage) != 0:\n",
        "    raise ValueError(errorMessage)\n",
        "  #create deck\n",
        "  deck = []\n",
        "  costDist = [n1, n2, n3, n4, n5, n6]\n",
        "  additon = 0\n",
        "  for cost in costDist:\n",
        "    additon += 1\n",
        "    for i in range(cost):\n",
        "      deck.append(additon)\n",
        "  #randomly shuffle\n",
        "  random.shuffle(deck)\n",
        "  #deal\n",
        "  hand = []\n",
        "  board = []\n",
        "  flag = False\n",
        "  for i in range(3):\n",
        "    hand.append(deck.pop())\n",
        "  #for loop\n",
        "  for i in range(1, 7):\n",
        "    flag = False\n",
        "    #draw card\n",
        "    hand.append(deck.pop())\n",
        "    #turn info for testing\n",
        "    #print('Turn ', i)\n",
        "    #print('Hand:', hand)\n",
        "    #print('Played: ', board)\n",
        "    #play cards\n",
        "    for j in range(i, 0, -1):\n",
        "      combos = perms(j)\n",
        "      for k in range(len(combos)):\n",
        "        cardPlays = combos[k]\n",
        "        result = all(cardPlays.count(elem) <= hand.count(elem) for elem in set(cardPlays))\n",
        "        if result:\n",
        "          for l in range(len(cardPlays)):\n",
        "            board.append(hand.pop(hand.index(cardPlays[l - 1])))\n",
        "          flag = True\n",
        "          break\n",
        "      if flag:\n",
        "        break\n",
        "  return sum(board)\n"
      ],
      "metadata": {
        "id": "xxI5q93B5nJM"
      },
      "execution_count": null,
      "outputs": []
    },
    {
      "cell_type": "code",
      "source": [
        "#generate all profiles\n",
        "\n",
        "def generate_lists(total, length, current_list=None, result=None):\n",
        "    if current_list is None:\n",
        "        current_list = []\n",
        "\n",
        "    if result is None:\n",
        "        result = []\n",
        "\n",
        "    if total == 0 and len(current_list) == length:\n",
        "        result.append(current_list[:])  # Append a copy of the current list\n",
        "        return\n",
        "\n",
        "    if total < 0 or len(current_list) >= length:\n",
        "        return\n",
        "\n",
        "    for i in range(0, 13):  # including 0 as a valid number\n",
        "        generate_lists(total - i, length, current_list + [i], result)\n",
        "\n",
        "    return result\n",
        "\n",
        "combinations = generate_lists(12, 6)\n"
      ],
      "metadata": {
        "id": "GpZQY4vTGZRM"
      },
      "execution_count": null,
      "outputs": []
    },
    {
      "cell_type": "code",
      "source": [
        "#test all profiles\n",
        "start_time = time.time()\n",
        "\n",
        "data = {'Profile': combinations, 'Efficiency': 0}\n",
        "\n",
        "# Create the DataFrame\n",
        "df = pd.DataFrame(data)\n",
        "\n",
        "simulations = 1000\n",
        "row = 0\n",
        "for combo in combinations:\n",
        "  NRGsum = 0\n",
        "  for j in range(simulations):\n",
        "    NRGsum += efficiency(combo[0], combo[1], combo[2], combo[3], combo[4], combo[5])\n",
        "  df.loc[row, 'Efficiency'] = NRGsum\n",
        "  if row % 500 == 0:\n",
        "    print(\"First \", row, \" rows completed.\")\n",
        "  row += 1\n",
        "df['Efficiency'] = df['Efficiency'] / (simulations * 21)\n",
        "\n",
        "end_time = time.time()\n",
        "elapsed_time = end_time - start_time\n",
        "print(\"Elapsed time:\", elapsed_time, \"seconds\")\n"
      ],
      "metadata": {
        "colab": {
          "base_uri": "https://localhost:8080/",
          "height": 382
        },
        "id": "ISd1UqbGG9SJ",
        "outputId": "4b78b18f-23e7-401a-a8e5-d57b96e49e8c"
      },
      "execution_count": null,
      "outputs": [
        {
          "output_type": "stream",
          "name": "stdout",
          "text": [
            "First  0  rows completed.\n"
          ]
        },
        {
          "output_type": "error",
          "ename": "KeyboardInterrupt",
          "evalue": "",
          "traceback": [
            "\u001b[0;31m---------------------------------------------------------------------------\u001b[0m",
            "\u001b[0;31mKeyboardInterrupt\u001b[0m                         Traceback (most recent call last)",
            "\u001b[0;32m<ipython-input-7-f3b5c0c0e8aa>\u001b[0m in \u001b[0;36m<cell line: 11>\u001b[0;34m()\u001b[0m\n\u001b[1;32m     12\u001b[0m   \u001b[0mNRGsum\u001b[0m \u001b[0;34m=\u001b[0m \u001b[0;36m0\u001b[0m\u001b[0;34m\u001b[0m\u001b[0;34m\u001b[0m\u001b[0m\n\u001b[1;32m     13\u001b[0m   \u001b[0;32mfor\u001b[0m \u001b[0mj\u001b[0m \u001b[0;32min\u001b[0m \u001b[0mrange\u001b[0m\u001b[0;34m(\u001b[0m\u001b[0msimulations\u001b[0m\u001b[0;34m)\u001b[0m\u001b[0;34m:\u001b[0m\u001b[0;34m\u001b[0m\u001b[0;34m\u001b[0m\u001b[0m\n\u001b[0;32m---> 14\u001b[0;31m     \u001b[0mNRGsum\u001b[0m \u001b[0;34m+=\u001b[0m \u001b[0mefficiency\u001b[0m\u001b[0;34m(\u001b[0m\u001b[0mcombo\u001b[0m\u001b[0;34m[\u001b[0m\u001b[0;36m0\u001b[0m\u001b[0;34m]\u001b[0m\u001b[0;34m,\u001b[0m \u001b[0mcombo\u001b[0m\u001b[0;34m[\u001b[0m\u001b[0;36m1\u001b[0m\u001b[0;34m]\u001b[0m\u001b[0;34m,\u001b[0m \u001b[0mcombo\u001b[0m\u001b[0;34m[\u001b[0m\u001b[0;36m2\u001b[0m\u001b[0;34m]\u001b[0m\u001b[0;34m,\u001b[0m \u001b[0mcombo\u001b[0m\u001b[0;34m[\u001b[0m\u001b[0;36m3\u001b[0m\u001b[0;34m]\u001b[0m\u001b[0;34m,\u001b[0m \u001b[0mcombo\u001b[0m\u001b[0;34m[\u001b[0m\u001b[0;36m4\u001b[0m\u001b[0;34m]\u001b[0m\u001b[0;34m,\u001b[0m \u001b[0mcombo\u001b[0m\u001b[0;34m[\u001b[0m\u001b[0;36m5\u001b[0m\u001b[0;34m]\u001b[0m\u001b[0;34m)\u001b[0m\u001b[0;34m\u001b[0m\u001b[0;34m\u001b[0m\u001b[0m\n\u001b[0m\u001b[1;32m     15\u001b[0m   \u001b[0mdf\u001b[0m\u001b[0;34m.\u001b[0m\u001b[0mloc\u001b[0m\u001b[0;34m[\u001b[0m\u001b[0mrow\u001b[0m\u001b[0;34m,\u001b[0m \u001b[0;34m'Efficiency'\u001b[0m\u001b[0;34m]\u001b[0m \u001b[0;34m=\u001b[0m \u001b[0mNRGsum\u001b[0m\u001b[0;34m\u001b[0m\u001b[0;34m\u001b[0m\u001b[0m\n\u001b[1;32m     16\u001b[0m   \u001b[0;32mif\u001b[0m \u001b[0mrow\u001b[0m \u001b[0;34m%\u001b[0m \u001b[0;36m500\u001b[0m \u001b[0;34m==\u001b[0m \u001b[0;36m0\u001b[0m\u001b[0;34m:\u001b[0m\u001b[0;34m\u001b[0m\u001b[0;34m\u001b[0m\u001b[0m\n",
            "\u001b[0;32m<ipython-input-4-d4bb41fd1f84>\u001b[0m in \u001b[0;36mefficiency\u001b[0;34m(n1, n2, n3, n4, n5, n6)\u001b[0m\n\u001b[1;32m     43\u001b[0m     \u001b[0;31m#play cards\u001b[0m\u001b[0;34m\u001b[0m\u001b[0;34m\u001b[0m\u001b[0m\n\u001b[1;32m     44\u001b[0m     \u001b[0;32mfor\u001b[0m \u001b[0mj\u001b[0m \u001b[0;32min\u001b[0m \u001b[0mrange\u001b[0m\u001b[0;34m(\u001b[0m\u001b[0mi\u001b[0m\u001b[0;34m,\u001b[0m \u001b[0;36m0\u001b[0m\u001b[0;34m,\u001b[0m \u001b[0;34m-\u001b[0m\u001b[0;36m1\u001b[0m\u001b[0;34m)\u001b[0m\u001b[0;34m:\u001b[0m\u001b[0;34m\u001b[0m\u001b[0;34m\u001b[0m\u001b[0m\n\u001b[0;32m---> 45\u001b[0;31m       \u001b[0mcombos\u001b[0m \u001b[0;34m=\u001b[0m \u001b[0mperms\u001b[0m\u001b[0;34m(\u001b[0m\u001b[0mj\u001b[0m\u001b[0;34m)\u001b[0m\u001b[0;34m\u001b[0m\u001b[0;34m\u001b[0m\u001b[0m\n\u001b[0m\u001b[1;32m     46\u001b[0m       \u001b[0;32mfor\u001b[0m \u001b[0mk\u001b[0m \u001b[0;32min\u001b[0m \u001b[0mrange\u001b[0m\u001b[0;34m(\u001b[0m\u001b[0mlen\u001b[0m\u001b[0;34m(\u001b[0m\u001b[0mcombos\u001b[0m\u001b[0;34m)\u001b[0m\u001b[0;34m)\u001b[0m\u001b[0;34m:\u001b[0m\u001b[0;34m\u001b[0m\u001b[0;34m\u001b[0m\u001b[0m\n\u001b[1;32m     47\u001b[0m         \u001b[0mcardPlays\u001b[0m \u001b[0;34m=\u001b[0m \u001b[0mcombos\u001b[0m\u001b[0;34m[\u001b[0m\u001b[0mk\u001b[0m\u001b[0;34m]\u001b[0m\u001b[0;34m\u001b[0m\u001b[0;34m\u001b[0m\u001b[0m\n",
            "\u001b[0;32m<ipython-input-2-5e374c9147b1>\u001b[0m in \u001b[0;36mperms\u001b[0;34m(energy)\u001b[0m\n\u001b[1;32m     23\u001b[0m   \u001b[0mcombinations\u001b[0m\u001b[0;34m.\u001b[0m\u001b[0mreverse\u001b[0m\u001b[0;34m(\u001b[0m\u001b[0;34m)\u001b[0m\u001b[0;34m\u001b[0m\u001b[0;34m\u001b[0m\u001b[0m\n\u001b[1;32m     24\u001b[0m   \u001b[0mmax_values\u001b[0m \u001b[0;34m=\u001b[0m \u001b[0;34m[\u001b[0m\u001b[0mmax\u001b[0m\u001b[0;34m(\u001b[0m\u001b[0marr\u001b[0m\u001b[0;34m)\u001b[0m \u001b[0;32mfor\u001b[0m \u001b[0marr\u001b[0m \u001b[0;32min\u001b[0m \u001b[0mcombinations\u001b[0m\u001b[0;34m]\u001b[0m\u001b[0;34m\u001b[0m\u001b[0;34m\u001b[0m\u001b[0m\n\u001b[0;32m---> 25\u001b[0;31m   \u001b[0mcombined_arrays\u001b[0m \u001b[0;34m=\u001b[0m \u001b[0mlist\u001b[0m\u001b[0;34m(\u001b[0m\u001b[0mzip\u001b[0m\u001b[0;34m(\u001b[0m\u001b[0mcombinations\u001b[0m\u001b[0;34m,\u001b[0m \u001b[0mmax_values\u001b[0m\u001b[0;34m)\u001b[0m\u001b[0;34m)\u001b[0m\u001b[0;34m\u001b[0m\u001b[0;34m\u001b[0m\u001b[0m\n\u001b[0m\u001b[1;32m     26\u001b[0m   \u001b[0;31m# Sort the combined arrays based on the second column (maximum values) in decreasing order\u001b[0m\u001b[0;34m\u001b[0m\u001b[0;34m\u001b[0m\u001b[0m\n\u001b[1;32m     27\u001b[0m   \u001b[0msorted_combined\u001b[0m \u001b[0;34m=\u001b[0m \u001b[0msorted\u001b[0m\u001b[0;34m(\u001b[0m\u001b[0mcombined_arrays\u001b[0m\u001b[0;34m,\u001b[0m \u001b[0mkey\u001b[0m\u001b[0;34m=\u001b[0m\u001b[0;32mlambda\u001b[0m \u001b[0mx\u001b[0m\u001b[0;34m:\u001b[0m \u001b[0mx\u001b[0m\u001b[0;34m[\u001b[0m\u001b[0;36m1\u001b[0m\u001b[0;34m]\u001b[0m\u001b[0;34m,\u001b[0m \u001b[0mreverse\u001b[0m\u001b[0;34m=\u001b[0m\u001b[0;32mTrue\u001b[0m\u001b[0;34m)\u001b[0m\u001b[0;34m\u001b[0m\u001b[0;34m\u001b[0m\u001b[0m\n",
            "\u001b[0;31mKeyboardInterrupt\u001b[0m: "
          ]
        }
      ]
    },
    {
      "cell_type": "code",
      "source": [
        "df.to_excel('1000sims.xlsx', index=False)\n"
      ],
      "metadata": {
        "id": "pvfzAXkxNmol"
      },
      "execution_count": null,
      "outputs": []
    }
  ]
}